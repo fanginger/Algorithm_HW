{
 "cells": [
  {
   "cell_type": "code",
   "execution_count": 1,
   "metadata": {},
   "outputs": [],
   "source": [
    "class ListNode:\n",
    "    def _init_(self,data):\n",
    "        self.data =data\n",
    "        self.next = None\n",
    "        return"
   ]
  },
  {
   "cell_type": "code",
   "execution_count": 3,
   "metadata": {},
   "outputs": [
    {
     "ename": "TypeError",
     "evalue": "object() takes no parameters",
     "output_type": "error",
     "traceback": [
      "\u001b[0;31m---------------------------------------------------------------------------\u001b[0m",
      "\u001b[0;31mTypeError\u001b[0m                                 Traceback (most recent call last)",
      "\u001b[0;32m<ipython-input-3-41bd76e4180a>\u001b[0m in \u001b[0;36m<module>\u001b[0;34m()\u001b[0m\n\u001b[0;32m----> 1\u001b[0;31m \u001b[0mnode\u001b[0m \u001b[0;34m=\u001b[0m \u001b[0mListNode\u001b[0m\u001b[0;34m(\u001b[0m\u001b[0;36m15\u001b[0m\u001b[0;34m)\u001b[0m\u001b[0;34m\u001b[0m\u001b[0m\n\u001b[0m",
      "\u001b[0;31mTypeError\u001b[0m: object() takes no parameters"
     ]
    }
   ],
   "source": [
    "node = ListNode(15)"
   ]
  },
  {
   "cell_type": "code",
   "execution_count": 55,
   "metadata": {},
   "outputs": [],
   "source": [
    "class ListNode:\n",
    "  def __init__(self, data): \n",
    "\n",
    "    self.data = data\n",
    "\n",
    "    self.next = None\n",
    "    return\n"
   ]
  },
  {
   "cell_type": "code",
   "execution_count": 8,
   "metadata": {},
   "outputs": [
    {
     "data": {
      "text/plain": [
       "__main__.ListNode"
      ]
     },
     "execution_count": 8,
     "metadata": {},
     "output_type": "execute_result"
    }
   ],
   "source": [
    "type(node1)"
   ]
  },
  {
   "cell_type": "code",
   "execution_count": 56,
   "metadata": {},
   "outputs": [],
   "source": [
    "class SingleLinkedList:\n",
    "  def __init__(self): \n",
    "    self.head = None\n",
    "    self.tail = None\n",
    "  def add_list_item(self, item):\n",
    "  # make sure item is a proper node  \n",
    "      if not isinstance(item, ListNode):\n",
    "        item = ListNode(item)\n",
    "\n",
    "      if self.head is None:\n",
    "        self.head = item\n",
    "      else:\n",
    "        self.tail.next = item\n",
    "\n",
    "      self.tail = item\n",
    "      return\n",
    "    "
   ]
  },
  {
   "cell_type": "code",
   "execution_count": 57,
   "metadata": {},
   "outputs": [],
   "source": [
    "list1 = SingleLinkedList()\n",
    "node1 = ListNode(10)\n",
    "list1.add_list_item(node1)"
   ]
  },
  {
   "cell_type": "code",
   "execution_count": 59,
   "metadata": {},
   "outputs": [],
   "source": [
    "node1 = ListNode(10)\n",
    "list1.add_list_item(node1)"
   ]
  },
  {
   "cell_type": "code",
   "execution_count": 32,
   "metadata": {},
   "outputs": [],
   "source": [
    "class SingleLinkedList:\n",
    "  def __init__(self): \n",
    "    self.head = None\n",
    "    self.tail = None\n",
    "  def add_list_item(self, item):\n",
    "  # make sure item is a proper node  \n",
    "      if not isinstance(item, ListNode):\n",
    "        item = ListNode(item)\n",
    "\n",
    "      if self.head is None:\n",
    "        self.head = item\n",
    "      else:\n",
    "        self.tail.next = item\n",
    "\n",
    "      self.tail = item\n",
    "      return"
   ]
  },
  {
   "cell_type": "code",
   "execution_count": 17,
   "metadata": {},
   "outputs": [],
   "source": [
    "def add_list_item(self, item):\n",
    "  # make sure item is a proper node  \n",
    "  if not isinstance(item, ListNode):\n",
    "    item = ListNode(item)\n",
    "    \n",
    "  if self.head is None:\n",
    "    self.head = item\n",
    "  else:\n",
    "    self.tail.next = item\n",
    "    \n",
    "  self.tail = item\n",
    "  return"
   ]
  },
  {
   "cell_type": "code",
   "execution_count": 20,
   "metadata": {},
   "outputs": [],
   "source": [
    "list1 = SingleLinkedList()"
   ]
  },
  {
   "cell_type": "code",
   "execution_count": 35,
   "metadata": {},
   "outputs": [
    {
     "ename": "TypeError",
     "evalue": "object() takes no parameters",
     "output_type": "error",
     "traceback": [
      "\u001b[0;31m---------------------------------------------------------------------------\u001b[0m",
      "\u001b[0;31mTypeError\u001b[0m                                 Traceback (most recent call last)",
      "\u001b[0;32m<ipython-input-35-4b4baee7d023>\u001b[0m in \u001b[0;36m<module>\u001b[0;34m()\u001b[0m\n\u001b[1;32m      1\u001b[0m \u001b[0mlist1\u001b[0m \u001b[0;34m=\u001b[0m \u001b[0mSingleLinkedList\u001b[0m\u001b[0;34m(\u001b[0m\u001b[0;34m)\u001b[0m\u001b[0;34m\u001b[0m\u001b[0m\n\u001b[0;32m----> 2\u001b[0;31m \u001b[0mlist1\u001b[0m\u001b[0;34m.\u001b[0m\u001b[0madd_list_item\u001b[0m\u001b[0;34m(\u001b[0m\u001b[0mnode1\u001b[0m\u001b[0;34m)\u001b[0m\u001b[0;34m\u001b[0m\u001b[0m\n\u001b[0m\u001b[1;32m      3\u001b[0m \u001b[0mlist1\u001b[0m\u001b[0;34m.\u001b[0m\u001b[0madd_list_item\u001b[0m\u001b[0;34m(\u001b[0m\u001b[0;36m12\u001b[0m\u001b[0;34m)\u001b[0m\u001b[0;34m\u001b[0m\u001b[0m\n",
      "\u001b[0;32m<ipython-input-34-ea0dbac6e6c6>\u001b[0m in \u001b[0;36madd_list_item\u001b[0;34m(self, item)\u001b[0m\n\u001b[1;32m     10\u001b[0m   \u001b[0;31m# make sure item is a proper node\u001b[0m\u001b[0;34m\u001b[0m\u001b[0;34m\u001b[0m\u001b[0m\n\u001b[1;32m     11\u001b[0m       \u001b[0;32mif\u001b[0m \u001b[0;32mnot\u001b[0m \u001b[0misinstance\u001b[0m\u001b[0;34m(\u001b[0m\u001b[0mitem\u001b[0m\u001b[0;34m,\u001b[0m \u001b[0mListNode\u001b[0m\u001b[0;34m)\u001b[0m\u001b[0;34m:\u001b[0m\u001b[0;34m\u001b[0m\u001b[0m\n\u001b[0;32m---> 12\u001b[0;31m         \u001b[0mitem\u001b[0m \u001b[0;34m=\u001b[0m \u001b[0mListNode\u001b[0m\u001b[0;34m(\u001b[0m\u001b[0mitem\u001b[0m\u001b[0;34m)\u001b[0m\u001b[0;34m\u001b[0m\u001b[0m\n\u001b[0m\u001b[1;32m     13\u001b[0m \u001b[0;34m\u001b[0m\u001b[0m\n\u001b[1;32m     14\u001b[0m       \u001b[0;32mif\u001b[0m \u001b[0mself\u001b[0m\u001b[0;34m.\u001b[0m\u001b[0mhead\u001b[0m \u001b[0;32mis\u001b[0m \u001b[0;32mNone\u001b[0m\u001b[0;34m:\u001b[0m\u001b[0;34m\u001b[0m\u001b[0m\n",
      "\u001b[0;31mTypeError\u001b[0m: object() takes no parameters"
     ]
    }
   ],
   "source": [
    "list1 = SingleLinkedList()\n",
    "list1.add_list_item(node1)\n",
    "list1.add_list_item(12)"
   ]
  },
  {
   "cell_type": "code",
   "execution_count": 53,
   "metadata": {},
   "outputs": [],
   "source": [
    "class SingleLinkedList:\n",
    "  def __init__(self): \n",
    "    self.head = None\n",
    "    self.tail = None\n",
    "#   def __init__(self,data):\n",
    "#         self.data = data\n",
    "#         self.next = None\n",
    "  def add_list_item(self, item):\n",
    "  # make sure item is a proper node  \n",
    "      if not isinstance(item, ListNode):\n",
    "        item = ListNode(item)\n",
    "      if self.head is None:\n",
    "        self.head = item\n",
    "      else:\n",
    "        self.tail.next = item\n",
    "\n",
    "      self.tail = item\n",
    "      return"
   ]
  },
  {
   "cell_type": "code",
   "execution_count": 54,
   "metadata": {},
   "outputs": [
    {
     "ename": "TypeError",
     "evalue": "__init__() missing 1 required positional argument: 'data'",
     "output_type": "error",
     "traceback": [
      "\u001b[0;31m---------------------------------------------------------------------------\u001b[0m",
      "\u001b[0;31mTypeError\u001b[0m                                 Traceback (most recent call last)",
      "\u001b[0;32m<ipython-input-54-55330f10c599>\u001b[0m in \u001b[0;36m<module>\u001b[0;34m()\u001b[0m\n\u001b[0;32m----> 1\u001b[0;31m \u001b[0mnode1\u001b[0m \u001b[0;34m=\u001b[0m \u001b[0mSingleLinkedList\u001b[0m\u001b[0;34m(\u001b[0m\u001b[0;34m)\u001b[0m\u001b[0;34m\u001b[0m\u001b[0m\n\u001b[0m",
      "\u001b[0;31mTypeError\u001b[0m: __init__() missing 1 required positional argument: 'data'"
     ]
    }
   ],
   "source": [
    "node1 = SingleLinkedList()"
   ]
  },
  {
   "cell_type": "code",
   "execution_count": 61,
   "metadata": {},
   "outputs": [
    {
     "name": "stdout",
     "output_type": "stream",
     "text": [
      "<__main__.SingleLinkedList object at 0x105f8d0b8>\n"
     ]
    }
   ],
   "source": [
    "print(list1)"
   ]
  },
  {
   "cell_type": "code",
   "execution_count": 143,
   "metadata": {},
   "outputs": [],
   "source": [
    "#先創建一個空的\n",
    "#創建node\n",
    "#創建可以add\n",
    "#創建可以刪除\n",
    "class SingleLinkedList:\n",
    "  def __init__(self): \n",
    "    self.head = None\n",
    "    self.tail = None\n",
    "  def add_list_item(self, item):\n",
    "  # make sure item is a proper node  \n",
    "      if not isinstance(item, ListNode):\n",
    "        item = ListNode(item)\n",
    "\n",
    "      if self.head is None:\n",
    "        self.head = item\n",
    "      else:\n",
    "        self.tail.next = item\n",
    "\n",
    "      self.tail = item\n",
    "  def delte_list_item(self,item):\n",
    "#     if  isinstance(item, ListNode):\n",
    "        if(self.tail is None):\n",
    "            self.data = None\n",
    "        else:\n",
    "            self.data = self.next.data\n"
   ]
  },
  {
   "cell_type": "code",
   "execution_count": 142,
   "metadata": {},
   "outputs": [],
   "source": [
    "class ListNode:\n",
    "  def __init__(self, data): \n",
    "    self.data = data\n",
    "    self.next = None\n",
    "    return\n"
   ]
  },
  {
   "cell_type": "code",
   "execution_count": 144,
   "metadata": {},
   "outputs": [],
   "source": [
    "list1 = SingleLinkedList()\n",
    "node1 = ListNode(10)\n",
    "list1.add_list_item(node1)\n",
    "node2 = ListNode(12)"
   ]
  },
  {
   "cell_type": "code",
   "execution_count": 147,
   "metadata": {},
   "outputs": [],
   "source": [
    "node1.next = node2"
   ]
  },
  {
   "cell_type": "code",
   "execution_count": 148,
   "metadata": {},
   "outputs": [
    {
     "ename": "AttributeError",
     "evalue": "'SingleLinkedList' object has no attribute 'next'",
     "output_type": "error",
     "traceback": [
      "\u001b[0;31m---------------------------------------------------------------------------\u001b[0m",
      "\u001b[0;31mAttributeError\u001b[0m                            Traceback (most recent call last)",
      "\u001b[0;32m<ipython-input-148-5fcc4dd9dfeb>\u001b[0m in \u001b[0;36m<module>\u001b[0;34m()\u001b[0m\n\u001b[0;32m----> 1\u001b[0;31m \u001b[0mlist1\u001b[0m\u001b[0;34m.\u001b[0m\u001b[0mdelte_list_item\u001b[0m\u001b[0;34m(\u001b[0m\u001b[0mnode2\u001b[0m\u001b[0;34m)\u001b[0m\u001b[0;34m\u001b[0m\u001b[0m\n\u001b[0m",
      "\u001b[0;32m<ipython-input-143-53ec21df2712>\u001b[0m in \u001b[0;36mdelte_list_item\u001b[0;34m(self, item)\u001b[0m\n\u001b[1;32m     23\u001b[0m             \u001b[0mself\u001b[0m\u001b[0;34m.\u001b[0m\u001b[0mdata\u001b[0m \u001b[0;34m=\u001b[0m \u001b[0;32mNone\u001b[0m\u001b[0;34m\u001b[0m\u001b[0m\n\u001b[1;32m     24\u001b[0m         \u001b[0;32melse\u001b[0m\u001b[0;34m:\u001b[0m\u001b[0;34m\u001b[0m\u001b[0m\n\u001b[0;32m---> 25\u001b[0;31m             \u001b[0mself\u001b[0m\u001b[0;34m.\u001b[0m\u001b[0mdata\u001b[0m \u001b[0;34m=\u001b[0m \u001b[0mself\u001b[0m\u001b[0;34m.\u001b[0m\u001b[0mnext\u001b[0m\u001b[0;34m.\u001b[0m\u001b[0mdata\u001b[0m\u001b[0;34m\u001b[0m\u001b[0m\n\u001b[0m",
      "\u001b[0;31mAttributeError\u001b[0m: 'SingleLinkedList' object has no attribute 'next'"
     ]
    }
   ],
   "source": [
    "list1.delte_list_item(node2)"
   ]
  },
  {
   "cell_type": "code",
   "execution_count": 7,
   "metadata": {},
   "outputs": [],
   "source": [
    "class ListNode:\n",
    "  def __init__(self, data , next): \n",
    "    self.data = data\n",
    "    self.next = None"
   ]
  },
  {
   "cell_type": "code",
   "execution_count": 4,
   "metadata": {},
   "outputs": [],
   "source": [
    "class SingleLinkedList:\n",
    "  def __init__(self): \n",
    "    self.head = None\n",
    "    self.tail = None\n",
    "  def add_list_item(self, item):\n",
    "  # make sure item is a proper node  \n",
    "      if not isinstance(item, ListNode):\n",
    "        item = ListNode(item)\n",
    "\n",
    "      if self.head is None:\n",
    "        self.head = item\n",
    "      else:\n",
    "        self.tail.next = item\n",
    "\n",
    "      self.tail = item\n",
    "    \n",
    "#   def delte_list_item(self,item):\n",
    "# #     if  isinstance(item, ListNode):\n",
    "#         if(self.tail is None):\n",
    "#             self.data = None\n",
    "#         else:\n",
    "#             self.data = self.next.data"
   ]
  },
  {
   "cell_type": "code",
   "execution_count": 10,
   "metadata": {},
   "outputs": [],
   "source": [
    "list1 = SingleLinkedList()\n",
    "node1 = ListNode(10,None)"
   ]
  },
  {
   "cell_type": "code",
   "execution_count": 11,
   "metadata": {},
   "outputs": [],
   "source": [
    "node2 = ListNode(20,None)"
   ]
  },
  {
   "cell_type": "code",
   "execution_count": 14,
   "metadata": {},
   "outputs": [],
   "source": [
    "list1.add_list_item(node2)"
   ]
  },
  {
   "cell_type": "code",
   "execution_count": 15,
   "metadata": {},
   "outputs": [],
   "source": [
    "list1.add_list_item(node1)"
   ]
  },
  {
   "cell_type": "code",
   "execution_count": 16,
   "metadata": {},
   "outputs": [
    {
     "data": {
      "text/plain": [
       "<__main__.SingleLinkedList at 0x1038e2a58>"
      ]
     },
     "execution_count": 16,
     "metadata": {},
     "output_type": "execute_result"
    }
   ],
   "source": [
    "list1"
   ]
  },
  {
   "cell_type": "code",
   "execution_count": 18,
   "metadata": {},
   "outputs": [
    {
     "data": {
      "text/plain": [
       "True"
      ]
     },
     "execution_count": 18,
     "metadata": {},
     "output_type": "execute_result"
    }
   ],
   "source": [
    "node2.next == node1"
   ]
  },
  {
   "cell_type": "code",
   "execution_count": 19,
   "metadata": {},
   "outputs": [
    {
     "ename": "SyntaxError",
     "evalue": "invalid syntax (<ipython-input-19-042c3ea94d68>, line 4)",
     "output_type": "error",
     "traceback": [
      "\u001b[0;36m  File \u001b[0;32m\"<ipython-input-19-042c3ea94d68>\"\u001b[0;36m, line \u001b[0;32m4\u001b[0m\n\u001b[0;31m    addAtIndex(self, index, val):\u001b[0m\n\u001b[0m                                 ^\u001b[0m\n\u001b[0;31mSyntaxError\u001b[0m\u001b[0;31m:\u001b[0m invalid syntax\n"
     ]
    }
   ],
   "source": [
    "get\n",
    "addAtHead\n",
    "addAtTail\n",
    "addAtIndex(self, index, val):\n",
    "deleteAtIndex(self, index):\n",
    "    \n"
   ]
  },
  {
   "cell_type": "code",
   "execution_count": 198,
   "metadata": {},
   "outputs": [],
   "source": [
    "class Mylinkedlist:\n",
    "    def __init__(self,data):\n",
    "        self.data = None\n",
    "        self.next = None\n",
    "    def get(self,index):\n",
    "        #回傳index的值，分成裡面有或是裡面根本沒有東西\n",
    "        if self.data == None:\n",
    "            return -1\n",
    "        else:\n",
    "            \n",
    "            if index == 0:\n",
    "                return self.data\n",
    "            \n",
    "            else:\n",
    "                i =1\n",
    "                nextnode = self.next\n",
    "                while(nextnode != None):\n",
    "                    #問題這裡為什麼要用nextnode!= node\n",
    "                    if(i==index):\n",
    "                        return nextnode.val\n",
    "                    nextnode = nextnode.next\n",
    "                    i+=1\n",
    "                return -1\n",
    "    def addAtHead(self,data):\n",
    "        if self.data == None:\n",
    "            self.data = data\n",
    "            return \n",
    "        else:\n",
    "            temp = self.val\n",
    "        self.val = val\n",
    "        tempnode = self.next\n",
    "        self.next = MyLinkedList()\n",
    "        self.next.val = temp\n",
    "        self.next.next = tempnode\n",
    "        return\n",
    "    \n",
    "    #temp 之前的第一\n",
    "    #把現在的定義成 node\n",
    "    #tempnode 為現在的下一個\n",
    "    #現在的下一個 為 ｍｙｌｉｎｋｅｄｌｉｓｔ\n",
    "    #現在的下一個值為 temp\n",
    "    #現在的下一個 下一個為 tempnode\n",
    "                    "
   ]
  },
  {
   "cell_type": "code",
   "execution_count": 31,
   "metadata": {},
   "outputs": [
    {
     "ename": "SyntaxError",
     "evalue": "invalid syntax (<ipython-input-31-eb770f167f79>, line 1)",
     "output_type": "error",
     "traceback": [
      "\u001b[0;36m  File \u001b[0;32m\"<ipython-input-31-eb770f167f79>\"\u001b[0;36m, line \u001b[0;32m1\u001b[0m\n\u001b[0;31m    Mylinkedlist linkedList = new Mylinkedlist()\u001b[0m\n\u001b[0m                          ^\u001b[0m\n\u001b[0;31mSyntaxError\u001b[0m\u001b[0;31m:\u001b[0m invalid syntax\n"
     ]
    }
   ],
   "source": [
    "Mylinkedlist linkedList = new Mylinkedlist()"
   ]
  },
  {
   "cell_type": "code",
   "execution_count": 149,
   "metadata": {},
   "outputs": [],
   "source": [
    "class Mylinkedlist:\n",
    "    def __init__(self):\n",
    "        self.val = None\n",
    "        self.next = None\n",
    "    \n",
    "\n",
    "    def get(self,index):\n",
    "        #回傳index的值，分成裡面有或是裡面根本沒有東西\n",
    "        if self.val == None:\n",
    "            return -1\n",
    "        else:\n",
    "            if index == 0:\n",
    "                return self.val\n",
    "            else:\n",
    "                i =1\n",
    "                n = self.next\n",
    "                while(n != None):\n",
    "                    #問題這裡為什麼要用nextnode!= node\n",
    "                    if(i==index):\n",
    "                        return n.val\n",
    "                    n = n.next\n",
    "                    i+=1\n",
    "                return -1\n",
    "        \n",
    "       ##上面的ok\n",
    "    \n",
    "    def addAtHead(self,val:int):\n",
    "        if self.val == None:\n",
    "            self.val = val\n",
    "            return \n",
    "        \n",
    "        #下面錯的\n",
    "        else:\n",
    "            oldhead = self.val\n",
    "            self.val = val\n",
    "            self.next = oldhead\n",
    "            \n",
    "    def addAtTail(self,val:int):\n",
    "        if self.val == None:\n",
    "            self.val = val\n",
    "            return \n",
    "        else:\n",
    "            #若他的下一個為none則加入進去\n",
    "            n = self\n",
    "            while n.next != None:\n",
    "                print('not yet')\n",
    "                n = n.next\n",
    "                #現在self.data為最後一個了 \n",
    "            n.next = Mylinkedlist()\n",
    "            n.next.val = val\n",
    "        "
   ]
  },
  {
   "cell_type": "code",
   "execution_count": 150,
   "metadata": {},
   "outputs": [],
   "source": [
    "new = Mylinkedlist()"
   ]
  },
  {
   "cell_type": "code",
   "execution_count": 146,
   "metadata": {},
   "outputs": [],
   "source": [
    "new.addAtHead(2)"
   ]
  },
  {
   "cell_type": "code",
   "execution_count": 148,
   "metadata": {},
   "outputs": [
    {
     "ename": "AttributeError",
     "evalue": "'int' object has no attribute 'val'",
     "output_type": "error",
     "traceback": [
      "\u001b[0;31m---------------------------------------------------------------------------\u001b[0m",
      "\u001b[0;31mAttributeError\u001b[0m                            Traceback (most recent call last)",
      "\u001b[0;32m<ipython-input-148-cf1b03a154cb>\u001b[0m in \u001b[0;36m<module>\u001b[0;34m()\u001b[0m\n\u001b[0;32m----> 1\u001b[0;31m \u001b[0mnew\u001b[0m\u001b[0;34m.\u001b[0m\u001b[0mget\u001b[0m\u001b[0;34m(\u001b[0m\u001b[0;36m1\u001b[0m\u001b[0;34m)\u001b[0m\u001b[0;34m\u001b[0m\u001b[0m\n\u001b[0m",
      "\u001b[0;32m<ipython-input-142-3282889a08cf>\u001b[0m in \u001b[0;36mget\u001b[0;34m(self, index)\u001b[0m\n\u001b[1;32m     18\u001b[0m                     \u001b[0;31m#問題這裡為什麼要用nextnode!= node\u001b[0m\u001b[0;34m\u001b[0m\u001b[0;34m\u001b[0m\u001b[0m\n\u001b[1;32m     19\u001b[0m                     \u001b[0;32mif\u001b[0m\u001b[0;34m(\u001b[0m\u001b[0mi\u001b[0m\u001b[0;34m==\u001b[0m\u001b[0mindex\u001b[0m\u001b[0;34m)\u001b[0m\u001b[0;34m:\u001b[0m\u001b[0;34m\u001b[0m\u001b[0m\n\u001b[0;32m---> 20\u001b[0;31m                         \u001b[0;32mreturn\u001b[0m \u001b[0mn\u001b[0m\u001b[0;34m.\u001b[0m\u001b[0mval\u001b[0m\u001b[0;34m\u001b[0m\u001b[0m\n\u001b[0m\u001b[1;32m     21\u001b[0m                     \u001b[0mn\u001b[0m \u001b[0;34m=\u001b[0m \u001b[0mn\u001b[0m\u001b[0;34m.\u001b[0m\u001b[0mnext\u001b[0m\u001b[0;34m\u001b[0m\u001b[0m\n\u001b[1;32m     22\u001b[0m                     \u001b[0mi\u001b[0m\u001b[0;34m+=\u001b[0m\u001b[0;36m1\u001b[0m\u001b[0;34m\u001b[0m\u001b[0m\n",
      "\u001b[0;31mAttributeError\u001b[0m: 'int' object has no attribute 'val'"
     ]
    }
   ],
   "source": [
    "new.get(1)"
   ]
  },
  {
   "cell_type": "code",
   "execution_count": 152,
   "metadata": {},
   "outputs": [
    {
     "ename": "AttributeError",
     "evalue": "'NoneType' object has no attribute 'next'",
     "output_type": "error",
     "traceback": [
      "\u001b[0;31m---------------------------------------------------------------------------\u001b[0m",
      "\u001b[0;31mAttributeError\u001b[0m                            Traceback (most recent call last)",
      "\u001b[0;32m<ipython-input-152-ffa747327afe>\u001b[0m in \u001b[0;36m<module>\u001b[0;34m()\u001b[0m\n\u001b[0;32m----> 1\u001b[0;31m \u001b[0mnew\u001b[0m\u001b[0;34m.\u001b[0m\u001b[0maddAtTail\u001b[0m\u001b[0;34m(\u001b[0m\u001b[0;36m7\u001b[0m\u001b[0;34m)\u001b[0m\u001b[0;34m\u001b[0m\u001b[0m\n\u001b[0m",
      "\u001b[0;32m<ipython-input-149-492492448e1c>\u001b[0m in \u001b[0;36maddAtTail\u001b[0;34m(self, val)\u001b[0m\n\u001b[1;32m     44\u001b[0m             \u001b[0mn\u001b[0m \u001b[0;34m=\u001b[0m \u001b[0mself\u001b[0m\u001b[0;34m.\u001b[0m\u001b[0mnext\u001b[0m\u001b[0;34m\u001b[0m\u001b[0m\n\u001b[1;32m     45\u001b[0m \u001b[0;31m#             while n.next != None:\u001b[0m\u001b[0;34m\u001b[0m\u001b[0;34m\u001b[0m\u001b[0m\n\u001b[0;32m---> 46\u001b[0;31m             \u001b[0;32mwhile\u001b[0m \u001b[0mn\u001b[0m\u001b[0;34m.\u001b[0m\u001b[0mnext\u001b[0m \u001b[0;34m!=\u001b[0m \u001b[0;32mNone\u001b[0m\u001b[0;34m:\u001b[0m\u001b[0;34m\u001b[0m\u001b[0m\n\u001b[0m\u001b[1;32m     47\u001b[0m                 \u001b[0mprint\u001b[0m\u001b[0;34m(\u001b[0m\u001b[0;34m'not yet'\u001b[0m\u001b[0;34m)\u001b[0m\u001b[0;34m\u001b[0m\u001b[0m\n\u001b[1;32m     48\u001b[0m                 \u001b[0mn\u001b[0m \u001b[0;34m=\u001b[0m \u001b[0mn\u001b[0m\u001b[0;34m.\u001b[0m\u001b[0mnext\u001b[0m\u001b[0;34m\u001b[0m\u001b[0m\n",
      "\u001b[0;31mAttributeError\u001b[0m: 'NoneType' object has no attribute 'next'"
     ]
    }
   ],
   "source": [
    "new.addAtTail(7)"
   ]
  },
  {
   "cell_type": "code",
   "execution_count": 135,
   "metadata": {},
   "outputs": [
    {
     "data": {
      "text/plain": [
       "-1"
      ]
     },
     "execution_count": 135,
     "metadata": {},
     "output_type": "execute_result"
    }
   ],
   "source": [
    "new.get(2)"
   ]
  },
  {
   "cell_type": "code",
   "execution_count": 20,
   "metadata": {},
   "outputs": [],
   "source": [
    "new.addAtTail(4)"
   ]
  },
  {
   "cell_type": "code",
   "execution_count": 21,
   "metadata": {},
   "outputs": [
    {
     "data": {
      "text/plain": [
       "-1"
      ]
     },
     "execution_count": 21,
     "metadata": {},
     "output_type": "execute_result"
    }
   ],
   "source": [
    "new.get(1)"
   ]
  },
  {
   "cell_type": "code",
   "execution_count": 232,
   "metadata": {},
   "outputs": [
    {
     "ename": "AttributeError",
     "evalue": "'int' object has no attribute 'next'",
     "output_type": "error",
     "traceback": [
      "\u001b[0;31m---------------------------------------------------------------------------\u001b[0m",
      "\u001b[0;31mAttributeError\u001b[0m                            Traceback (most recent call last)",
      "\u001b[0;32m<ipython-input-232-3141c969c4fd>\u001b[0m in \u001b[0;36m<module>\u001b[0;34m()\u001b[0m\n\u001b[0;32m----> 1\u001b[0;31m \u001b[0mnew\u001b[0m\u001b[0;34m.\u001b[0m\u001b[0mget\u001b[0m\u001b[0;34m(\u001b[0m\u001b[0;36m2\u001b[0m\u001b[0;34m)\u001b[0m\u001b[0;34m\u001b[0m\u001b[0m\n\u001b[0m",
      "\u001b[0;32m<ipython-input-225-14e4a8894cec>\u001b[0m in \u001b[0;36mget\u001b[0;34m(self, index)\u001b[0m\n\u001b[1;32m     17\u001b[0m                     \u001b[0;32mif\u001b[0m\u001b[0;34m(\u001b[0m\u001b[0mi\u001b[0m\u001b[0;34m==\u001b[0m\u001b[0mindex\u001b[0m\u001b[0;34m)\u001b[0m\u001b[0;34m:\u001b[0m\u001b[0;34m\u001b[0m\u001b[0m\n\u001b[1;32m     18\u001b[0m                         \u001b[0;32mreturn\u001b[0m \u001b[0mn\u001b[0m\u001b[0;34m.\u001b[0m\u001b[0mval\u001b[0m\u001b[0;34m\u001b[0m\u001b[0m\n\u001b[0;32m---> 19\u001b[0;31m                     \u001b[0mn\u001b[0m \u001b[0;34m=\u001b[0m \u001b[0mn\u001b[0m\u001b[0;34m.\u001b[0m\u001b[0mnext\u001b[0m\u001b[0;34m\u001b[0m\u001b[0m\n\u001b[0m\u001b[1;32m     20\u001b[0m                     \u001b[0mi\u001b[0m\u001b[0;34m+=\u001b[0m\u001b[0;36m1\u001b[0m\u001b[0;34m\u001b[0m\u001b[0m\n\u001b[1;32m     21\u001b[0m                 \u001b[0;32mreturn\u001b[0m \u001b[0;34m-\u001b[0m\u001b[0;36m1\u001b[0m\u001b[0;34m\u001b[0m\u001b[0m\n",
      "\u001b[0;31mAttributeError\u001b[0m: 'int' object has no attribute 'next'"
     ]
    }
   ],
   "source": [
    "new.get(2)"
   ]
  },
  {
   "cell_type": "code",
   "execution_count": 233,
   "metadata": {},
   "outputs": [],
   "source": [
    "new  = MyLinkedList()\n",
    "new.addAtHead(1);"
   ]
  },
  {
   "cell_type": "code",
   "execution_count": 234,
   "metadata": {},
   "outputs": [
    {
     "data": {
      "text/plain": [
       "1"
      ]
     },
     "execution_count": 234,
     "metadata": {},
     "output_type": "execute_result"
    }
   ],
   "source": [
    "new.get(0)"
   ]
  },
  {
   "cell_type": "code",
   "execution_count": 235,
   "metadata": {},
   "outputs": [],
   "source": [
    "new.addAtHead(2);"
   ]
  },
  {
   "cell_type": "code",
   "execution_count": 236,
   "metadata": {},
   "outputs": [
    {
     "data": {
      "text/plain": [
       "2"
      ]
     },
     "execution_count": 236,
     "metadata": {},
     "output_type": "execute_result"
    }
   ],
   "source": [
    "new.get(0)"
   ]
  },
  {
   "cell_type": "code",
   "execution_count": null,
   "metadata": {},
   "outputs": [],
   "source": [
    "index,val \n",
    "\n",
    "for i in index \n",
    "    cur = self.head \n",
    "    while i == index\n",
    "    就把它擷取\n",
    "    cur = cur.next\n",
    "    i+=1 \n",
    "    就可以取得\n",
    "    \n",
    "    \n",
    "    "
   ]
  },
  {
   "cell_type": "code",
   "execution_count": 153,
   "metadata": {},
   "outputs": [
    {
     "name": "stdout",
     "output_type": "stream",
     "text": [
      "out of index\n",
      "3\n",
      "6\n"
     ]
    }
   ],
   "source": [
    "class Node:\n",
    "    def __init__(self, data, next=None):\n",
    "        self.data = data\n",
    "        self.next = next\n",
    "    def __repr__(self):\n",
    "        return str(self.data)\n",
    "\n",
    "class LinkList:\n",
    "    def __init__(self):\n",
    "        self.head = None    \n",
    "\n",
    "    def print(self):\n",
    "        curr = self.head\n",
    "        while curr:\n",
    "            print(curr)\n",
    "            curr = curr.next\n",
    "\n",
    "    def addTail(self, node):\n",
    "        if self.head == None:\n",
    "            self.head = node\n",
    "        else:\n",
    "             curr = self.head\n",
    "             while curr:\n",
    "                 if curr.next != None:\n",
    "                    curr = curr.next\n",
    "                 else:   \n",
    "                    curr.next = node\n",
    "                    return\n",
    "\n",
    "    def addHead(self, node):\n",
    "        if self.head == None:\n",
    "            self.head = node\n",
    "        else:\n",
    "            curr = self.head\n",
    "            self.head = node\n",
    "            self.head.next = curr\n",
    "\n",
    "    def addAtIndex(self, index, node):\n",
    "        if index < 0:\n",
    "            self.addHead(node)\n",
    "        else:\n",
    "            count = 0\n",
    "            cur = self.head\n",
    "            for i in range(index):\n",
    "                cur = cur.next\n",
    "                if cur == None:\n",
    "                    print('out of index')\n",
    "                    return  \n",
    "            tmp = cur.next\n",
    "            cur.next = node\n",
    "            node.next = tmp\n",
    "    \n",
    "    def deleteAtIndex(self, index):\n",
    "        if index < 0:\n",
    "            print('out of index')\n",
    "            return\n",
    "        elif index == 0:\n",
    "            self.head = self.head.next\n",
    "            pass\n",
    "        else:\n",
    "            count = 0\n",
    "            cur = self.head\n",
    "            for i in range(index-1):\n",
    "                cur = cur.next\n",
    "            if cur.next == None:\n",
    "                print('out of index')\n",
    "                return  \n",
    "            cur.next = cur.next.next\n",
    "            \n",
    "\n",
    "            \n",
    "\n",
    "\n",
    "\n",
    "\n",
    "linklist1 = LinkList() \n",
    "linklist1.addTail(Node(3))\n",
    "linklist1.addTail(Node(6))\n",
    "linklist1.deleteAtIndex(2)\n",
    "# linklist1.addHead(Node(4))\n",
    "# linklist1.addAtIndex(3, Node(9))\n",
    "linklist1.print()\n"
   ]
  },
  {
   "cell_type": "code",
   "execution_count": 174,
   "metadata": {},
   "outputs": [],
   "source": [
    "a = [5,4,3,2,1]\n",
    "for i in range(len(a)-1,0,-1):\n",
    "    a[i] = a[i-1]\n",
    "    "
   ]
  },
  {
   "cell_type": "code",
   "execution_count": 175,
   "metadata": {},
   "outputs": [
    {
     "data": {
      "text/plain": [
       "[5, 5, 4, 3, 2]"
      ]
     },
     "execution_count": 175,
     "metadata": {},
     "output_type": "execute_result"
    }
   ],
   "source": [
    "a"
   ]
  },
  {
   "cell_type": "code",
   "execution_count": 1,
   "metadata": {},
   "outputs": [
    {
     "name": "stdout",
     "output_type": "stream",
     "text": [
      "1\n"
     ]
    }
   ],
   "source": [
    "print(1)"
   ]
  },
  {
   "cell_type": "code",
   "execution_count": 3,
   "metadata": {},
   "outputs": [
    {
     "name": "stdout",
     "output_type": "stream",
     "text": [
      "4\n"
     ]
    }
   ],
   "source": [
    "a = [1,2,3,4]\n",
    "c = a.pop()\n",
    "print(c)"
   ]
  },
  {
   "cell_type": "code",
   "execution_count": 7,
   "metadata": {},
   "outputs": [
    {
     "name": "stdout",
     "output_type": "stream",
     "text": [
      "true\n"
     ]
    }
   ],
   "source": [
    "a=[]\n",
    "len(a)\n",
    "if len(a) == 0:\n",
    "        print('true')   "
   ]
  },
  {
   "cell_type": "code",
   "execution_count": null,
   "metadata": {},
   "outputs": [],
   "source": []
  }
 ],
 "metadata": {
  "kernelspec": {
   "display_name": "Python 3",
   "language": "python",
   "name": "python3"
  },
  "language_info": {
   "codemirror_mode": {
    "name": "ipython",
    "version": 3
   },
   "file_extension": ".py",
   "mimetype": "text/x-python",
   "name": "python",
   "nbconvert_exporter": "python",
   "pygments_lexer": "ipython3",
   "version": "3.6.4"
  }
 },
 "nbformat": 4,
 "nbformat_minor": 2
}
