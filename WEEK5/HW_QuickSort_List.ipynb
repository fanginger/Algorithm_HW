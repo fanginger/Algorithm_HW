{
 "cells": [
  {
   "cell_type": "code",
   "execution_count": 6,
   "metadata": {},
   "outputs": [],
   "source": [
    "class Solution:\n",
    "   \n",
    "    def sortList(self,mylist,front,end):\n",
    "        #這邊就是丟進去會開始區分\n",
    "        if front<end:\n",
    "            pivot = self.partition(mylist,front,end)\n",
    "            #區分兩堆 \n",
    "            self.sortList(mylist,front,pivot-1)\n",
    "            self.sortList(mylist,pivot+1,end)\n",
    "        return mylist\n",
    "    def partition(self,mylist,front,end):\n",
    "        i = front-1\n",
    "        j = front\n",
    "        pivot = mylist[end]\n",
    "        while j < end:\n",
    "            #mylist[j] != pivot\n",
    "            if(mylist[j]>pivot):\n",
    "                j +=1\n",
    "            else:\n",
    "                # (mylist[j]<=pivot)\n",
    "                i+= 1\n",
    "                mylist[j],mylist[i] = mylist[i],mylist[j]\n",
    "                j+=1\n",
    "        i+=1\n",
    "        # j+=1\n",
    "        mylist[j],mylist[i] = mylist[i],mylist[j]\n",
    "        return i \n",
    "        #回傳pivot 點的位置"
   ]
  },
  {
   "cell_type": "code",
   "execution_count": 7,
   "metadata": {},
   "outputs": [
    {
     "name": "stdout",
     "output_type": "stream",
     "text": [
      "[1, 1, 2, 3, 3, 5, 8, 9, 22, 33, 83]\n",
      "[1, 1, 1, 2, 3, 3, 4, 5, 32, 34, 34, 54, 62, 653]\n"
     ]
    }
   ],
   "source": [
    "#測試1\n",
    "list_test = [2,3,8,3,1,22,83,33,5,9,1]\n",
    "sol = Solution()\n",
    "\n",
    "ans = sol.sortList(list_test , 0 ,len(list_test)-1)\n",
    "\n",
    "print(ans)\n",
    "\n",
    "#測試2\n",
    "list_test2 = [62,32,1,3,5,34,653,4,2,1,34,54,3,1]\n",
    "sol2 = Solution()\n",
    "\n",
    "ans2 = sol2.sortList(list_test2 , 0 ,len(list_test2)-1)\n",
    "\n",
    "print(ans2)"
   ]
  },
  {
   "cell_type": "code",
   "execution_count": 3,
   "metadata": {},
   "outputs": [],
   "source": []
  },
  {
   "cell_type": "code",
   "execution_count": null,
   "metadata": {},
   "outputs": [],
   "source": []
  }
 ],
 "metadata": {
  "kernelspec": {
   "display_name": "Python 3",
   "language": "python",
   "name": "python3"
  },
  "language_info": {
   "codemirror_mode": {
    "name": "ipython",
    "version": 3
   },
   "file_extension": ".py",
   "mimetype": "text/x-python",
   "name": "python",
   "nbconvert_exporter": "python",
   "pygments_lexer": "ipython3",
   "version": "3.6.4"
  }
 },
 "nbformat": 4,
 "nbformat_minor": 2
}
