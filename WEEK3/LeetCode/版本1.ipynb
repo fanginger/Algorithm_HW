class Node:
    def __init__(self, data, next=None):
        self.data = data
        self.next = next
    def __repr__(self):
        return str(self.data)

class LinkList:
    def __init__(self):
        self.head = None    

    def print(self):
        curr = self.head
        while curr:
            print(curr)
            curr = curr.next

    def addTail(self, node):
        if self.head == None:
            self.head = node
        else:
             curr = self.head
             while curr:
                 if curr.next != None:
                    curr = curr.next
                 else:   
                    curr.next = node
                    return

    def addHead(self, node):
        if self.head == None:
            self.head = node
        else:
            curr = self.head
            self.head = node
            self.head.next = curr

    def addAtIndex(self, index, node):
        if index < 0:
            self.addHead(node)
        else:
            count = 0
            cur = self.head
            for i in range(index):
                cur = cur.next
                if cur == None:
                    print('out of index')
                    return  
            tmp = cur.next
            cur.next = node
            node.next = tmp
    
    def deleteAtIndex(self, index):
        if index < 0:
            print('out of index')
            return
        elif index == 0:
            self.head = self.head.next
            pass
        else:
            count = 0
            cur = self.head
            for i in range(index-1):
                cur = cur.next
            if cur.next == None:
                print('out of index')
                return  
            cur.next = cur.next.next
            

            




linklist1 = LinkList() 
linklist1.addTail(Node(3))
linklist1.addTail(Node(6))
linklist1.deleteAtIndex(2)
# linklist1.addHead(Node(4))
# linklist1.addAtIndex(3, Node(9))
linklist1.print()
