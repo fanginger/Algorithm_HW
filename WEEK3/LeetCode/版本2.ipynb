{
 "cells": [
  {
   "cell_type": "code",
   "execution_count": null,
   "metadata": {},
   "outputs": [],
   "source": [
    "class Node:\n",
    "    def __init__(self, data, next=None):\n",
    "        self.data = data\n",
    "        self.next = next\n",
    "    def __repr__(self):\n",
    "        return str(self.data)\n",
    "\n",
    "class LinkList:\n",
    "    def __init__(self):\n",
    "        self.head = None    \n",
    "\n",
    "    def print(self):\n",
    "        curr = self.head\n",
    "        while curr:\n",
    "            print(curr)\n",
    "            curr = curr.next\n",
    "\n",
    "    def addTail(self, node):\n",
    "        if self.head == None:\n",
    "            self.head = node\n",
    "        else:\n",
    "             curr = self.head\n",
    "             while curr:\n",
    "                 if curr.next != None:\n",
    "                    curr = curr.next\n",
    "                 else:   \n",
    "                    curr.next = node\n",
    "                    return\n",
    "\n",
    "    def addHead(self, node):\n",
    "        if self.head == None:\n",
    "            self.head = node\n",
    "        else:\n",
    "            curr = self.head\n",
    "            self.head = node\n",
    "            self.head.next = curr\n",
    "\n",
    "    def addAtIndex(self, index, node):\n",
    "        if index < 0:\n",
    "            self.addHead(node)\n",
    "        else:\n",
    "            count = 0\n",
    "            cur = self.head\n",
    "            for i in range(index):\n",
    "                cur = cur.next\n",
    "                if cur == None:\n",
    "                    print('out of index')\n",
    "                    return  \n",
    "            tmp = cur.next\n",
    "            cur.next = node\n",
    "            node.next = tmp\n",
    "    \n",
    "    def deleteAtIndex(self, index):\n",
    "        if index < 0:\n",
    "            print('out of index')\n",
    "            return\n",
    "        elif index == 0:\n",
    "            self.head = self.head.next\n",
    "            pass\n",
    "        else:\n",
    "            count = 0\n",
    "            cur = self.head\n",
    "            for i in range(index-1):\n",
    "                cur = cur.next\n",
    "            if cur.next == None:\n",
    "                print('out of index')\n",
    "                return  \n",
    "            cur.next = cur.next.next\n",
    "            \n",
    "\n",
    "            \n",
    "\n",
    "\n",
    "\n",
    "\n",
    "linklist1 = LinkList() \n",
    "linklist1.addTail(Node(3))\n",
    "linklist1.addTail(Node(6))\n",
    "linklist1.deleteAtIndex(2)\n",
    "# linklist1.addHead(Node(4))\n",
    "# linklist1.addAtIndex(3, Node(9))\n",
    "linklist1.print()\n"
   ]
  },
  {
   "cell_type": "code",
   "execution_count": 20,
   "metadata": {},
   "outputs": [],
   "source": [
    "class Node:\n",
    "    def __init__(self ,val ,next = None):\n",
    "        self.val = None\n",
    "        self.next = None\n",
    "\n",
    "\n",
    "class linklist:\n",
    "    def __init__(self):\n",
    "        self.head = None\n",
    "    def print(self):\n",
    "        curr = self.head\n",
    "        while curr:\n",
    "            print(curr)\n",
    "            curr = curr.next\n",
    "    def addAtHead(self,node):\n",
    "        if self.head == None:\n",
    "            self.head = node\n",
    "        else:\n",
    "            tmp = self.head\n",
    "            self.head = node\n",
    "            node.next = tmp"
   ]
  },
  {
   "cell_type": "code",
   "execution_count": 21,
   "metadata": {},
   "outputs": [],
   "source": [
    "node1 = Node(1)\n",
    "node2 = Node(2)"
   ]
  },
  {
   "cell_type": "code",
   "execution_count": 22,
   "metadata": {},
   "outputs": [],
   "source": [
    "linklist1 = linklist()"
   ]
  },
  {
   "cell_type": "code",
   "execution_count": 23,
   "metadata": {},
   "outputs": [],
   "source": [
    "linklist1.addAtHead(node1)"
   ]
  },
  {
   "cell_type": "code",
   "execution_count": null,
   "metadata": {},
   "outputs": [],
   "source": []
  }
 ],
 "metadata": {
  "kernelspec": {
   "display_name": "Python 3",
   "language": "python",
   "name": "python3"
  },
  "language_info": {
   "codemirror_mode": {
    "name": "ipython",
    "version": 3
   },
   "file_extension": ".py",
   "mimetype": "text/x-python",
   "name": "python",
   "nbconvert_exporter": "python",
   "pygments_lexer": "ipython3",
   "version": "3.6.4"
  }
 },
 "nbformat": 4,
 "nbformat_minor": 2
}
